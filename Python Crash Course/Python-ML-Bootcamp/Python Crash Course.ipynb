{
 "cells": [
  {
   "cell_type": "markdown",
   "metadata": {},
   "source": [
    "# Python Crash Course\n",
    "\n",
    "Please note, this is not meant to be a comprehensive overview of Python or programming in general, if you have no programming experience, you should probably take my other course: [Complete Python Bootcamp](https://www.udemy.com/complete-python-bootcamp/?couponCode=PY20) instead.\n",
    "\n",
    "**This notebook is just a code reference for the videos, no written explanations here**\n",
    "\n",
    "This notebook will just go through the basic topics in order:\n",
    "\n",
    "* Data types\n",
    "    * Numbers\n",
    "    * Strings\n",
    "    * Printing\n",
    "    * Lists\n",
    "    * Dictionaries\n",
    "    * Booleans\n",
    "    * Tuples \n",
    "    * Sets\n",
    "* Comparison Operators\n",
    "* if,elif, else Statements\n",
    "* for Loops\n",
    "* while Loops\n",
    "* range()\n",
    "* list comprehension\n",
    "* functions\n",
    "* lambda expressions\n",
    "* map and filter\n",
    "* methods\n",
    "____"
   ]
  },
  {
   "cell_type": "markdown",
   "metadata": {},
   "source": [
    "## Data types\n",
    "\n",
    "### Numbers"
   ]
  },
  {
   "cell_type": "code",
   "execution_count": 6,
   "metadata": {
    "collapsed": false
   },
   "outputs": [
    {
     "data": {
      "text/plain": [
       "2"
      ]
     },
     "execution_count": 6,
     "metadata": {},
     "output_type": "execute_result"
    }
   ],
   "source": [
    "1 + 1"
   ]
  },
  {
   "cell_type": "code",
   "execution_count": 7,
   "metadata": {
    "collapsed": false
   },
   "outputs": [
    {
     "data": {
      "text/plain": [
       "3"
      ]
     },
     "execution_count": 7,
     "metadata": {},
     "output_type": "execute_result"
    }
   ],
   "source": [
    "1 * 3"
   ]
  },
  {
   "cell_type": "code",
   "execution_count": 8,
   "metadata": {
    "collapsed": false
   },
   "outputs": [
    {
     "data": {
      "text/plain": [
       "0.5"
      ]
     },
     "execution_count": 8,
     "metadata": {},
     "output_type": "execute_result"
    }
   ],
   "source": [
    "1 / 2"
   ]
  },
  {
   "cell_type": "code",
   "execution_count": 9,
   "metadata": {
    "collapsed": false
   },
   "outputs": [
    {
     "data": {
      "text/plain": [
       "16"
      ]
     },
     "execution_count": 9,
     "metadata": {},
     "output_type": "execute_result"
    }
   ],
   "source": [
    "2 ** 4"
   ]
  },
  {
   "cell_type": "code",
   "execution_count": 10,
   "metadata": {
    "collapsed": false
   },
   "outputs": [
    {
     "data": {
      "text/plain": [
       "0"
      ]
     },
     "execution_count": 10,
     "metadata": {},
     "output_type": "execute_result"
    }
   ],
   "source": [
    "4 % 2"
   ]
  },
  {
   "cell_type": "code",
   "execution_count": 11,
   "metadata": {
    "collapsed": false
   },
   "outputs": [
    {
     "data": {
      "text/plain": [
       "1"
      ]
     },
     "execution_count": 11,
     "metadata": {},
     "output_type": "execute_result"
    }
   ],
   "source": [
    "5 % 2"
   ]
  },
  {
   "cell_type": "code",
   "execution_count": 12,
   "metadata": {
    "collapsed": false
   },
   "outputs": [
    {
     "data": {
      "text/plain": [
       "50"
      ]
     },
     "execution_count": 12,
     "metadata": {},
     "output_type": "execute_result"
    }
   ],
   "source": [
    "(2 + 3) * (5 + 5)"
   ]
  },
  {
   "cell_type": "markdown",
   "metadata": {},
   "source": [
    "### Variable Assignment"
   ]
  },
  {
   "cell_type": "code",
   "execution_count": 13,
   "metadata": {
    "collapsed": true
   },
   "outputs": [],
   "source": [
    "# Can not start with number or special characters\n",
    "name_of_var = 2"
   ]
  },
  {
   "cell_type": "code",
   "execution_count": 14,
   "metadata": {
    "collapsed": true
   },
   "outputs": [],
   "source": [
    "x = 2\n",
    "y = 3"
   ]
  },
  {
   "cell_type": "code",
   "execution_count": 15,
   "metadata": {
    "collapsed": true
   },
   "outputs": [],
   "source": [
    "z = x + y"
   ]
  },
  {
   "cell_type": "code",
   "execution_count": 16,
   "metadata": {
    "collapsed": false
   },
   "outputs": [
    {
     "data": {
      "text/plain": [
       "5"
      ]
     },
     "execution_count": 16,
     "metadata": {},
     "output_type": "execute_result"
    }
   ],
   "source": [
    "z"
   ]
  },
  {
   "cell_type": "markdown",
   "metadata": {},
   "source": [
    "### Strings"
   ]
  },
  {
   "cell_type": "code",
   "execution_count": 17,
   "metadata": {
    "collapsed": false
   },
   "outputs": [
    {
     "data": {
      "text/plain": [
       "'single quotes'"
      ]
     },
     "execution_count": 17,
     "metadata": {},
     "output_type": "execute_result"
    }
   ],
   "source": [
    "'single quotes'"
   ]
  },
  {
   "cell_type": "code",
   "execution_count": 18,
   "metadata": {
    "collapsed": false
   },
   "outputs": [
    {
     "data": {
      "text/plain": [
       "'double quotes'"
      ]
     },
     "execution_count": 18,
     "metadata": {},
     "output_type": "execute_result"
    }
   ],
   "source": [
    "\"double quotes\""
   ]
  },
  {
   "cell_type": "code",
   "execution_count": 19,
   "metadata": {
    "collapsed": false
   },
   "outputs": [
    {
     "data": {
      "text/plain": [
       "\" wrap lot's of other quotes\""
      ]
     },
     "execution_count": 19,
     "metadata": {},
     "output_type": "execute_result"
    }
   ],
   "source": [
    "\" wrap lot's of other quotes\""
   ]
  },
  {
   "cell_type": "markdown",
   "metadata": {},
   "source": [
    "### Printing"
   ]
  },
  {
   "cell_type": "code",
   "execution_count": 20,
   "metadata": {
    "collapsed": true
   },
   "outputs": [],
   "source": [
    "x = 'hello'"
   ]
  },
  {
   "cell_type": "code",
   "execution_count": 21,
   "metadata": {
    "collapsed": false
   },
   "outputs": [
    {
     "data": {
      "text/plain": [
       "'hello'"
      ]
     },
     "execution_count": 21,
     "metadata": {},
     "output_type": "execute_result"
    }
   ],
   "source": [
    "x"
   ]
  },
  {
   "cell_type": "code",
   "execution_count": 22,
   "metadata": {
    "collapsed": false
   },
   "outputs": [
    {
     "name": "stdout",
     "output_type": "stream",
     "text": [
      "hello\n"
     ]
    }
   ],
   "source": [
    "print(x)"
   ]
  },
  {
   "cell_type": "code",
   "execution_count": 23,
   "metadata": {
    "collapsed": true
   },
   "outputs": [],
   "source": [
    "num = 12\n",
    "name = 'Sam'"
   ]
  },
  {
   "cell_type": "code",
   "execution_count": 24,
   "metadata": {
    "collapsed": false
   },
   "outputs": [
    {
     "name": "stdout",
     "output_type": "stream",
     "text": [
      "My number is: 12, and my name is: Sam\n"
     ]
    }
   ],
   "source": [
    "print('My number is: {one}, and my name is: {two}'.format(one=num,two=name))"
   ]
  },
  {
   "cell_type": "code",
   "execution_count": 25,
   "metadata": {
    "collapsed": false
   },
   "outputs": [
    {
     "name": "stdout",
     "output_type": "stream",
     "text": [
      "My number is: 12, and my name is: Sam\n"
     ]
    }
   ],
   "source": [
    "print('My number is: {}, and my name is: {}'.format(num,name))"
   ]
  },
  {
   "cell_type": "markdown",
   "metadata": {},
   "source": [
    "### Lists"
   ]
  },
  {
   "cell_type": "code",
   "execution_count": 26,
   "metadata": {
    "collapsed": false
   },
   "outputs": [
    {
     "data": {
      "text/plain": [
       "[1, 2, 3]"
      ]
     },
     "execution_count": 26,
     "metadata": {},
     "output_type": "execute_result"
    }
   ],
   "source": [
    "[1,2,3]"
   ]
  },
  {
   "cell_type": "code",
   "execution_count": 27,
   "metadata": {
    "collapsed": false
   },
   "outputs": [
    {
     "data": {
      "text/plain": [
       "['hi', 1, [1, 2]]"
      ]
     },
     "execution_count": 27,
     "metadata": {},
     "output_type": "execute_result"
    }
   ],
   "source": [
    "['hi',1,[1,2]]"
   ]
  },
  {
   "cell_type": "code",
   "execution_count": 28,
   "metadata": {
    "collapsed": true
   },
   "outputs": [],
   "source": [
    "my_list = ['a','b','c']"
   ]
  },
  {
   "cell_type": "code",
   "execution_count": 29,
   "metadata": {
    "collapsed": true
   },
   "outputs": [],
   "source": [
    "my_list.append('d')"
   ]
  },
  {
   "cell_type": "code",
   "execution_count": 30,
   "metadata": {
    "collapsed": false
   },
   "outputs": [
    {
     "data": {
      "text/plain": [
       "['a', 'b', 'c', 'd']"
      ]
     },
     "execution_count": 30,
     "metadata": {},
     "output_type": "execute_result"
    }
   ],
   "source": [
    "my_list"
   ]
  },
  {
   "cell_type": "code",
   "execution_count": 31,
   "metadata": {
    "collapsed": false
   },
   "outputs": [
    {
     "data": {
      "text/plain": [
       "'a'"
      ]
     },
     "execution_count": 31,
     "metadata": {},
     "output_type": "execute_result"
    }
   ],
   "source": [
    "my_list[0]"
   ]
  },
  {
   "cell_type": "code",
   "execution_count": 32,
   "metadata": {
    "collapsed": false
   },
   "outputs": [
    {
     "data": {
      "text/plain": [
       "'b'"
      ]
     },
     "execution_count": 32,
     "metadata": {},
     "output_type": "execute_result"
    }
   ],
   "source": [
    "my_list[1]"
   ]
  },
  {
   "cell_type": "code",
   "execution_count": 33,
   "metadata": {
    "collapsed": false
   },
   "outputs": [
    {
     "data": {
      "text/plain": [
       "['b', 'c', 'd']"
      ]
     },
     "execution_count": 33,
     "metadata": {},
     "output_type": "execute_result"
    }
   ],
   "source": [
    "my_list[1:]"
   ]
  },
  {
   "cell_type": "code",
   "execution_count": 34,
   "metadata": {
    "collapsed": false
   },
   "outputs": [
    {
     "data": {
      "text/plain": [
       "['a']"
      ]
     },
     "execution_count": 34,
     "metadata": {},
     "output_type": "execute_result"
    }
   ],
   "source": [
    "my_list[:1]"
   ]
  },
  {
   "cell_type": "code",
   "execution_count": 35,
   "metadata": {
    "collapsed": true
   },
   "outputs": [],
   "source": [
    "my_list[0] = 'NEW'"
   ]
  },
  {
   "cell_type": "code",
   "execution_count": 98,
   "metadata": {
    "collapsed": false
   },
   "outputs": [
    {
     "data": {
      "text/plain": [
       "['NEW', 'b', 'c', 'd']"
      ]
     },
     "execution_count": 98,
     "metadata": {},
     "output_type": "execute_result"
    }
   ],
   "source": [
    "my_list"
   ]
  },
  {
   "cell_type": "code",
   "execution_count": 99,
   "metadata": {
    "collapsed": true
   },
   "outputs": [],
   "source": [
    "nest = [1,2,3,[4,5,['target']]]"
   ]
  },
  {
   "cell_type": "code",
   "execution_count": 100,
   "metadata": {
    "collapsed": false
   },
   "outputs": [
    {
     "data": {
      "text/plain": [
       "[4, 5, ['target']]"
      ]
     },
     "execution_count": 100,
     "metadata": {},
     "output_type": "execute_result"
    }
   ],
   "source": [
    "nest[3]"
   ]
  },
  {
   "cell_type": "code",
   "execution_count": 101,
   "metadata": {
    "collapsed": false
   },
   "outputs": [
    {
     "data": {
      "text/plain": [
       "['target']"
      ]
     },
     "execution_count": 101,
     "metadata": {},
     "output_type": "execute_result"
    }
   ],
   "source": [
    "nest[3][2]"
   ]
  },
  {
   "cell_type": "code",
   "execution_count": 102,
   "metadata": {
    "collapsed": false
   },
   "outputs": [
    {
     "data": {
      "text/plain": [
       "'target'"
      ]
     },
     "execution_count": 102,
     "metadata": {},
     "output_type": "execute_result"
    }
   ],
   "source": [
    "nest[3][2][0]"
   ]
  },
  {
   "cell_type": "markdown",
   "metadata": {},
   "source": [
    "### Dictionaries"
   ]
  },
  {
   "cell_type": "code",
   "execution_count": 37,
   "metadata": {
    "collapsed": true
   },
   "outputs": [],
   "source": [
    "d = {'key1':'item1','key2':'item2'}"
   ]
  },
  {
   "cell_type": "code",
   "execution_count": 38,
   "metadata": {
    "collapsed": false
   },
   "outputs": [
    {
     "data": {
      "text/plain": [
       "{'key1': 'item1', 'key2': 'item2'}"
      ]
     },
     "execution_count": 38,
     "metadata": {},
     "output_type": "execute_result"
    }
   ],
   "source": [
    "d"
   ]
  },
  {
   "cell_type": "code",
   "execution_count": 39,
   "metadata": {
    "collapsed": false
   },
   "outputs": [
    {
     "data": {
      "text/plain": [
       "'item1'"
      ]
     },
     "execution_count": 39,
     "metadata": {},
     "output_type": "execute_result"
    }
   ],
   "source": [
    "d['key1']"
   ]
  },
  {
   "cell_type": "markdown",
   "metadata": {},
   "source": [
    "### Booleans"
   ]
  },
  {
   "cell_type": "code",
   "execution_count": 40,
   "metadata": {
    "collapsed": false
   },
   "outputs": [
    {
     "data": {
      "text/plain": [
       "True"
      ]
     },
     "execution_count": 40,
     "metadata": {},
     "output_type": "execute_result"
    }
   ],
   "source": [
    "True"
   ]
  },
  {
   "cell_type": "code",
   "execution_count": 41,
   "metadata": {
    "collapsed": false
   },
   "outputs": [
    {
     "data": {
      "text/plain": [
       "False"
      ]
     },
     "execution_count": 41,
     "metadata": {},
     "output_type": "execute_result"
    }
   ],
   "source": [
    "False"
   ]
  },
  {
   "cell_type": "markdown",
   "metadata": {},
   "source": [
    "### Tuples "
   ]
  },
  {
   "cell_type": "code",
   "execution_count": 42,
   "metadata": {
    "collapsed": true
   },
   "outputs": [],
   "source": [
    "t = (1,2,3)"
   ]
  },
  {
   "cell_type": "code",
   "execution_count": 43,
   "metadata": {
    "collapsed": false
   },
   "outputs": [
    {
     "data": {
      "text/plain": [
       "1"
      ]
     },
     "execution_count": 43,
     "metadata": {},
     "output_type": "execute_result"
    }
   ],
   "source": [
    "t[0]"
   ]
  },
  {
   "cell_type": "code",
   "execution_count": 44,
   "metadata": {
    "collapsed": false
   },
   "outputs": [
    {
     "ename": "TypeError",
     "evalue": "'tuple' object does not support item assignment",
     "output_type": "error",
     "traceback": [
      "\u001b[0;31m---------------------------------------------------------------------------\u001b[0m",
      "\u001b[0;31mTypeError\u001b[0m                                 Traceback (most recent call last)",
      "\u001b[0;32m<ipython-input-44-97e4e33b36c2>\u001b[0m in \u001b[0;36m<module>\u001b[0;34m()\u001b[0m\n\u001b[0;32m----> 1\u001b[0;31m \u001b[0mt\u001b[0m\u001b[0;34m[\u001b[0m\u001b[0;36m0\u001b[0m\u001b[0;34m]\u001b[0m \u001b[0;34m=\u001b[0m \u001b[0;34m'NEW'\u001b[0m\u001b[0;34m\u001b[0m\u001b[0m\n\u001b[0m",
      "\u001b[0;31mTypeError\u001b[0m: 'tuple' object does not support item assignment"
     ]
    }
   ],
   "source": [
    "t[0] = 'NEW'"
   ]
  },
  {
   "cell_type": "markdown",
   "metadata": {},
   "source": [
    "### Sets"
   ]
  },
  {
   "cell_type": "code",
   "execution_count": 45,
   "metadata": {
    "collapsed": false
   },
   "outputs": [
    {
     "data": {
      "text/plain": [
       "{1, 2, 3}"
      ]
     },
     "execution_count": 45,
     "metadata": {},
     "output_type": "execute_result"
    }
   ],
   "source": [
    "{1,2,3}"
   ]
  },
  {
   "cell_type": "code",
   "execution_count": 46,
   "metadata": {
    "collapsed": false
   },
   "outputs": [
    {
     "data": {
      "text/plain": [
       "{1, 2, 3}"
      ]
     },
     "execution_count": 46,
     "metadata": {},
     "output_type": "execute_result"
    }
   ],
   "source": [
    "{1,2,3,1,2,1,2,3,3,3,3,2,2,2,1,1,2}"
   ]
  },
  {
   "cell_type": "markdown",
   "metadata": {},
   "source": [
    "## Comparison Operators"
   ]
  },
  {
   "cell_type": "code",
   "execution_count": 47,
   "metadata": {
    "collapsed": false
   },
   "outputs": [
    {
     "data": {
      "text/plain": [
       "False"
      ]
     },
     "execution_count": 47,
     "metadata": {},
     "output_type": "execute_result"
    }
   ],
   "source": [
    "1 > 2"
   ]
  },
  {
   "cell_type": "code",
   "execution_count": 48,
   "metadata": {
    "collapsed": false
   },
   "outputs": [
    {
     "data": {
      "text/plain": [
       "True"
      ]
     },
     "execution_count": 48,
     "metadata": {},
     "output_type": "execute_result"
    }
   ],
   "source": [
    "1 < 2"
   ]
  },
  {
   "cell_type": "code",
   "execution_count": 49,
   "metadata": {
    "collapsed": false
   },
   "outputs": [
    {
     "data": {
      "text/plain": [
       "True"
      ]
     },
     "execution_count": 49,
     "metadata": {},
     "output_type": "execute_result"
    }
   ],
   "source": [
    "1 >= 1"
   ]
  },
  {
   "cell_type": "code",
   "execution_count": 50,
   "metadata": {
    "collapsed": false
   },
   "outputs": [
    {
     "data": {
      "text/plain": [
       "True"
      ]
     },
     "execution_count": 50,
     "metadata": {},
     "output_type": "execute_result"
    }
   ],
   "source": [
    "1 <= 4"
   ]
  },
  {
   "cell_type": "code",
   "execution_count": 51,
   "metadata": {
    "collapsed": false
   },
   "outputs": [
    {
     "data": {
      "text/plain": [
       "True"
      ]
     },
     "execution_count": 51,
     "metadata": {},
     "output_type": "execute_result"
    }
   ],
   "source": [
    "1 == 1"
   ]
  },
  {
   "cell_type": "code",
   "execution_count": 52,
   "metadata": {
    "collapsed": false
   },
   "outputs": [
    {
     "data": {
      "text/plain": [
       "False"
      ]
     },
     "execution_count": 52,
     "metadata": {},
     "output_type": "execute_result"
    }
   ],
   "source": [
    "'hi' == 'bye'"
   ]
  },
  {
   "cell_type": "markdown",
   "metadata": {},
   "source": [
    "## Logic Operators"
   ]
  },
  {
   "cell_type": "code",
   "execution_count": 53,
   "metadata": {
    "collapsed": false
   },
   "outputs": [
    {
     "data": {
      "text/plain": [
       "False"
      ]
     },
     "execution_count": 53,
     "metadata": {},
     "output_type": "execute_result"
    }
   ],
   "source": [
    "(1 > 2) and (2 < 3)"
   ]
  },
  {
   "cell_type": "code",
   "execution_count": 54,
   "metadata": {
    "collapsed": false
   },
   "outputs": [
    {
     "data": {
      "text/plain": [
       "True"
      ]
     },
     "execution_count": 54,
     "metadata": {},
     "output_type": "execute_result"
    }
   ],
   "source": [
    "(1 > 2) or (2 < 3)"
   ]
  },
  {
   "cell_type": "code",
   "execution_count": 55,
   "metadata": {
    "collapsed": false
   },
   "outputs": [
    {
     "data": {
      "text/plain": [
       "True"
      ]
     },
     "execution_count": 55,
     "metadata": {},
     "output_type": "execute_result"
    }
   ],
   "source": [
    "(1 == 2) or (2 == 3) or (4 == 4)"
   ]
  },
  {
   "cell_type": "markdown",
   "metadata": {},
   "source": [
    "## if,elif, else Statements"
   ]
  },
  {
   "cell_type": "code",
   "execution_count": 56,
   "metadata": {
    "collapsed": false
   },
   "outputs": [
    {
     "name": "stdout",
     "output_type": "stream",
     "text": [
      "Yep!\n"
     ]
    }
   ],
   "source": [
    "if 1 < 2:\n",
    "    print('Yep!')"
   ]
  },
  {
   "cell_type": "code",
   "execution_count": 57,
   "metadata": {
    "collapsed": false
   },
   "outputs": [
    {
     "name": "stdout",
     "output_type": "stream",
     "text": [
      "yep!\n"
     ]
    }
   ],
   "source": [
    "if 1 < 2:\n",
    "    print('yep!')"
   ]
  },
  {
   "cell_type": "code",
   "execution_count": 58,
   "metadata": {
    "collapsed": false
   },
   "outputs": [
    {
     "name": "stdout",
     "output_type": "stream",
     "text": [
      "first\n"
     ]
    }
   ],
   "source": [
    "if 1 < 2:\n",
    "    print('first')\n",
    "else:\n",
    "    print('last')"
   ]
  },
  {
   "cell_type": "code",
   "execution_count": 59,
   "metadata": {
    "collapsed": false
   },
   "outputs": [
    {
     "name": "stdout",
     "output_type": "stream",
     "text": [
      "last\n"
     ]
    }
   ],
   "source": [
    "if 1 > 2:\n",
    "    print('first')\n",
    "else:\n",
    "    print('last')"
   ]
  },
  {
   "cell_type": "code",
   "execution_count": 60,
   "metadata": {
    "collapsed": false
   },
   "outputs": [
    {
     "name": "stdout",
     "output_type": "stream",
     "text": [
      "middle\n"
     ]
    }
   ],
   "source": [
    "if 1 == 2:\n",
    "    print('first')\n",
    "elif 3 == 3:\n",
    "    print('middle')\n",
    "else:\n",
    "    print('Last')"
   ]
  },
  {
   "cell_type": "markdown",
   "metadata": {},
   "source": [
    "## for Loops"
   ]
  },
  {
   "cell_type": "code",
   "execution_count": 61,
   "metadata": {
    "collapsed": false
   },
   "outputs": [],
   "source": [
    "seq = [1,2,3,4,5]"
   ]
  },
  {
   "cell_type": "code",
   "execution_count": 62,
   "metadata": {
    "collapsed": false
   },
   "outputs": [
    {
     "name": "stdout",
     "output_type": "stream",
     "text": [
      "1\n",
      "2\n",
      "3\n",
      "4\n",
      "5\n"
     ]
    }
   ],
   "source": [
    "for item in seq:\n",
    "    print(item)"
   ]
  },
  {
   "cell_type": "code",
   "execution_count": 63,
   "metadata": {
    "collapsed": false
   },
   "outputs": [
    {
     "name": "stdout",
     "output_type": "stream",
     "text": [
      "Yep\n",
      "Yep\n",
      "Yep\n",
      "Yep\n",
      "Yep\n"
     ]
    }
   ],
   "source": [
    "for item in seq:\n",
    "    print('Yep')"
   ]
  },
  {
   "cell_type": "code",
   "execution_count": 64,
   "metadata": {
    "collapsed": false
   },
   "outputs": [
    {
     "name": "stdout",
     "output_type": "stream",
     "text": [
      "2\n",
      "4\n",
      "6\n",
      "8\n",
      "10\n"
     ]
    }
   ],
   "source": [
    "for jelly in seq:\n",
    "    print(jelly+jelly)"
   ]
  },
  {
   "cell_type": "markdown",
   "metadata": {},
   "source": [
    "## while Loops"
   ]
  },
  {
   "cell_type": "code",
   "execution_count": 65,
   "metadata": {
    "collapsed": false
   },
   "outputs": [
    {
     "name": "stdout",
     "output_type": "stream",
     "text": [
      "i is: 1\n",
      "i is: 2\n",
      "i is: 3\n",
      "i is: 4\n"
     ]
    }
   ],
   "source": [
    "i = 1\n",
    "while i < 5:\n",
    "    print('i is: {}'.format(i))\n",
    "    i = i+1"
   ]
  },
  {
   "cell_type": "markdown",
   "metadata": {},
   "source": [
    "## range()"
   ]
  },
  {
   "cell_type": "code",
   "execution_count": 66,
   "metadata": {
    "collapsed": false
   },
   "outputs": [
    {
     "data": {
      "text/plain": [
       "range(0, 5)"
      ]
     },
     "execution_count": 66,
     "metadata": {},
     "output_type": "execute_result"
    }
   ],
   "source": [
    "range(5)"
   ]
  },
  {
   "cell_type": "code",
   "execution_count": 67,
   "metadata": {
    "collapsed": false
   },
   "outputs": [
    {
     "name": "stdout",
     "output_type": "stream",
     "text": [
      "0\n",
      "1\n",
      "2\n",
      "3\n",
      "4\n"
     ]
    }
   ],
   "source": [
    "for i in range(5):\n",
    "    print(i)"
   ]
  },
  {
   "cell_type": "code",
   "execution_count": 68,
   "metadata": {
    "collapsed": false
   },
   "outputs": [
    {
     "data": {
      "text/plain": [
       "[0, 1, 2, 3, 4]"
      ]
     },
     "execution_count": 68,
     "metadata": {},
     "output_type": "execute_result"
    }
   ],
   "source": [
    "list(range(5))"
   ]
  },
  {
   "cell_type": "markdown",
   "metadata": {},
   "source": [
    "## list comprehension"
   ]
  },
  {
   "cell_type": "code",
   "execution_count": 69,
   "metadata": {
    "collapsed": true
   },
   "outputs": [],
   "source": [
    "x = [1,2,3,4]"
   ]
  },
  {
   "cell_type": "code",
   "execution_count": 70,
   "metadata": {
    "collapsed": false
   },
   "outputs": [
    {
     "name": "stdout",
     "output_type": "stream",
     "text": [
      "[1, 4, 9, 16]\n"
     ]
    }
   ],
   "source": [
    "out = []\n",
    "for item in x:\n",
    "    out.append(item**2)\n",
    "print(out)"
   ]
  },
  {
   "cell_type": "code",
   "execution_count": 71,
   "metadata": {
    "collapsed": false
   },
   "outputs": [
    {
     "data": {
      "text/plain": [
       "[1, 4, 9, 16]"
      ]
     },
     "execution_count": 71,
     "metadata": {},
     "output_type": "execute_result"
    }
   ],
   "source": [
    "[item**2 for item in x]"
   ]
  },
  {
   "cell_type": "markdown",
   "metadata": {},
   "source": [
    "## functions"
   ]
  },
  {
   "cell_type": "code",
   "execution_count": 72,
   "metadata": {
    "collapsed": true
   },
   "outputs": [],
   "source": [
    "def my_func(param1='default'):\n",
    "    \"\"\"\n",
    "    Docstring goes here.\n",
    "    \"\"\"\n",
    "    print(param1)"
   ]
  },
  {
   "cell_type": "code",
   "execution_count": 73,
   "metadata": {
    "collapsed": false
   },
   "outputs": [
    {
     "data": {
      "text/plain": [
       "<function __main__.my_func>"
      ]
     },
     "execution_count": 73,
     "metadata": {},
     "output_type": "execute_result"
    }
   ],
   "source": [
    "my_func"
   ]
  },
  {
   "cell_type": "code",
   "execution_count": 74,
   "metadata": {
    "collapsed": false
   },
   "outputs": [
    {
     "name": "stdout",
     "output_type": "stream",
     "text": [
      "default\n"
     ]
    }
   ],
   "source": [
    "my_func()"
   ]
  },
  {
   "cell_type": "code",
   "execution_count": 75,
   "metadata": {
    "collapsed": false
   },
   "outputs": [
    {
     "name": "stdout",
     "output_type": "stream",
     "text": [
      "new param\n"
     ]
    }
   ],
   "source": [
    "my_func('new param')"
   ]
  },
  {
   "cell_type": "code",
   "execution_count": 76,
   "metadata": {
    "collapsed": false
   },
   "outputs": [
    {
     "name": "stdout",
     "output_type": "stream",
     "text": [
      "new param\n"
     ]
    }
   ],
   "source": [
    "my_func(param1='new param')"
   ]
  },
  {
   "cell_type": "code",
   "execution_count": 77,
   "metadata": {
    "collapsed": true
   },
   "outputs": [],
   "source": [
    "def square(x):f\n",
    "    return x**2"
   ]
  },
  {
   "cell_type": "code",
   "execution_count": 78,
   "metadata": {
    "collapsed": true
   },
   "outputs": [],
   "source": [
    "out = square(2)"
   ]
  },
  {
   "cell_type": "code",
   "execution_count": 79,
   "metadata": {
    "collapsed": false,
    "scrolled": true
   },
   "outputs": [
    {
     "name": "stdout",
     "output_type": "stream",
     "text": [
      "4\n"
     ]
    }
   ],
   "source": [
    "print"
   ]
  },
  {
   "cell_type": "markdown",
   "metadata": {},
   "source": [
    "## lambda expressions"
   ]
  },
  {
   "cell_type": "code",
   "execution_count": 80,
   "metadata": {
    "collapsed": true
   },
   "outputs": [],
   "source": [
    "def times2(var):\n",
    "    return var*2"
   ]
  },
  {
   "cell_type": "code",
   "execution_count": 81,
   "metadata": {
    "collapsed": false
   },
   "outputs": [
    {
     "data": {
      "text/plain": [
       "4"
      ]
     },
     "execution_count": 81,
     "metadata": {},
     "output_type": "execute_result"
    }
   ],
   "source": [
    "times2(2)"
   ]
  },
  {
   "cell_type": "code",
   "execution_count": 82,
   "metadata": {
    "collapsed": false
   },
   "outputs": [
    {
     "data": {
      "text/plain": [
       "<function __main__.<lambda>>"
      ]
     },
     "execution_count": 82,
     "metadata": {},
     "output_type": "execute_result"
    }
   ],
   "source": [
    "lambda var: var*2"
   ]
  },
  {
   "cell_type": "markdown",
   "metadata": {},
   "source": [
    "## map and filter"
   ]
  },
  {
   "cell_type": "code",
   "execution_count": 83,
   "metadata": {
    "collapsed": true
   },
   "outputs": [],
   "source": [
    "seq = [1,2,3,4,5]"
   ]
  },
  {
   "cell_type": "code",
   "execution_count": 84,
   "metadata": {
    "collapsed": false
   },
   "outputs": [
    {
     "data": {
      "text/plain": [
       "<map at 0x105316748>"
      ]
     },
     "execution_count": 84,
     "metadata": {},
     "output_type": "execute_result"
    }
   ],
   "source": [
    "map(times2,seq)"
   ]
  },
  {
   "cell_type": "code",
   "execution_count": 85,
   "metadata": {
    "collapsed": false
   },
   "outputs": [
    {
     "data": {
      "text/plain": [
       "[2, 4, 6, 8, 10]"
      ]
     },
     "execution_count": 85,
     "metadata": {},
     "output_type": "execute_result"
    }
   ],
   "source": [
    "list(map(times2,seq))"
   ]
  },
  {
   "cell_type": "code",
   "execution_count": 86,
   "metadata": {
    "collapsed": false
   },
   "outputs": [
    {
     "data": {
      "text/plain": [
       "[2, 4, 6, 8, 10]"
      ]
     },
     "execution_count": 86,
     "metadata": {},
     "output_type": "execute_result"
    }
   ],
   "source": [
    "list(map(lambda var: var*2,seq))"
   ]
  },
  {
   "cell_type": "code",
   "execution_count": 87,
   "metadata": {
    "collapsed": false
   },
   "outputs": [
    {
     "data": {
      "text/plain": [
       "<filter at 0x105316ac8>"
      ]
     },
     "execution_count": 87,
     "metadata": {},
     "output_type": "execute_result"
    }
   ],
   "source": [
    "filter(lambda item: item%2 == 0,seq)"
   ]
  },
  {
   "cell_type": "code",
   "execution_count": 88,
   "metadata": {
    "collapsed": false
   },
   "outputs": [
    {
     "data": {
      "text/plain": [
       "[2, 4]"
      ]
     },
     "execution_count": 88,
     "metadata": {},
     "output_type": "execute_result"
    }
   ],
   "source": [
    "list(filter(lambda item: item%2 == 0,seq))"
   ]
  },
  {
   "cell_type": "markdown",
   "metadata": {},
   "source": [
    "## methods"
   ]
  },
  {
   "cell_type": "code",
   "execution_count": 111,
   "metadata": {
    "collapsed": true
   },
   "outputs": [],
   "source": [
    "st = 'hello my name is Sam'"
   ]
  },
  {
   "cell_type": "code",
   "execution_count": 112,
   "metadata": {
    "collapsed": false
   },
   "outputs": [
    {
     "data": {
      "text/plain": [
       "'hello my name is sam'"
      ]
     },
     "execution_count": 112,
     "metadata": {},
     "output_type": "execute_result"
    }
   ],
   "source": [
    "st.lower()"
   ]
  },
  {
   "cell_type": "code",
   "execution_count": 113,
   "metadata": {
    "collapsed": false
   },
   "outputs": [
    {
     "data": {
      "text/plain": [
       "'HELLO MY NAME IS SAM'"
      ]
     },
     "execution_count": 113,
     "metadata": {},
     "output_type": "execute_result"
    }
   ],
   "source": [
    "st.upper()"
   ]
  },
  {
   "cell_type": "code",
   "execution_count": 103,
   "metadata": {
    "collapsed": false
   },
   "outputs": [
    {
     "data": {
      "text/plain": [
       "['hello', 'my', 'name', 'is', 'Sam']"
      ]
     },
     "execution_count": 103,
     "metadata": {},
     "output_type": "execute_result"
    }
   ],
   "source": [
    "st.split()"
   ]
  },
  {
   "cell_type": "code",
   "execution_count": 104,
   "metadata": {
    "collapsed": true
   },
   "outputs": [],
   "source": [
    "tweet = 'Go Sports! #Sports'"
   ]
  },
  {
   "cell_type": "code",
   "execution_count": 106,
   "metadata": {
    "collapsed": false
   },
   "outputs": [
    {
     "data": {
      "text/plain": [
       "['Go Sports! ', 'Sports']"
      ]
     },
     "execution_count": 106,
     "metadata": {},
     "output_type": "execute_result"
    }
   ],
   "source": [
    "tweet.split('#')"
   ]
  },
  {
   "cell_type": "code",
   "execution_count": 107,
   "metadata": {
    "collapsed": false
   },
   "outputs": [
    {
     "data": {
      "text/plain": [
       "'Sports'"
      ]
     },
     "execution_count": 107,
     "metadata": {},
     "output_type": "execute_result"
    }
   ],
   "source": [
    "tweet.split('#')[1]"
   ]
  },
  {
   "cell_type": "code",
   "execution_count": 92,
   "metadata": {
    "collapsed": false
   },
   "outputs": [
    {
     "data": {
      "text/plain": [
       "{'key1': 'item1', 'key2': 'item2'}"
      ]
     },
     "execution_count": 92,
     "metadata": {},
     "output_type": "execute_result"
    }
   ],
   "source": [
    "d"
   ]
  },
  {
   "cell_type": "code",
   "execution_count": 93,
   "metadata": {
    "collapsed": false
   },
   "outputs": [
    {
     "data": {
      "text/plain": [
       "dict_keys(['key2', 'key1'])"
      ]
     },
     "execution_count": 93,
     "metadata": {},
     "output_type": "execute_result"
    }
   ],
   "source": [
    "d.keys()"
   ]
  },
  {
   "cell_type": "code",
   "execution_count": 94,
   "metadata": {
    "collapsed": false
   },
   "outputs": [
    {
     "data": {
      "text/plain": [
       "dict_items([('key2', 'item2'), ('key1', 'item1')])"
      ]
     },
     "execution_count": 94,
     "metadata": {},
     "output_type": "execute_result"
    }
   ],
   "source": [
    "d.items()"
   ]
  },
  {
   "cell_type": "code",
   "execution_count": 95,
   "metadata": {
    "collapsed": true
   },
   "outputs": [],
   "source": [
    "lst = [1,2,3]"
   ]
  },
  {
   "cell_type": "code",
   "execution_count": 96,
   "metadata": {
    "collapsed": false
   },
   "outputs": [
    {
     "data": {
      "text/plain": [
       "3"
      ]
     },
     "execution_count": 96,
     "metadata": {},
     "output_type": "execute_result"
    }
   ],
   "source": [
    "lst.pop()"
   ]
  },
  {
   "cell_type": "code",
   "execution_count": 108,
   "metadata": {
    "collapsed": false
   },
   "outputs": [
    {
     "data": {
      "text/plain": [
       "[1, 2]"
      ]
     },
     "execution_count": 108,
     "metadata": {},
     "output_type": "execute_result"
    }
   ],
   "source": [
    "lst"
   ]
  },
  {
   "cell_type": "code",
   "execution_count": 109,
   "metadata": {
    "collapsed": false
   },
   "outputs": [
    {
     "data": {
      "text/plain": [
       "False"
      ]
     },
     "execution_count": 109,
     "metadata": {},
     "output_type": "execute_result"
    }
   ],
   "source": [
    "'x' in [1,2,3]"
   ]
  },
  {
   "cell_type": "code",
   "execution_count": 1,
   "metadata": {
    "collapsed": false
   },
   "outputs": [
    {
     "data": {
      "text/plain": [
       "True"
      ]
     },
     "execution_count": 1,
     "metadata": {},
     "output_type": "execute_result"
    }
   ],
   "source": [
    "'x' in ['x','y','z']"
   ]
  },
  {
   "cell_type": "markdown",
   "metadata": {},
   "source": [
    "# Great Job!"
   ]
  },
  {
   "cell_type": "code",
   "execution_count": 5,
   "metadata": {
    "collapsed": true
   },
   "outputs": [],
   "source": [
    "%matplotlib notebook"
   ]
  },
  {
   "cell_type": "code",
   "execution_count": 7,
   "metadata": {
    "collapsed": false
   },
   "outputs": [],
   "source": [
    "import matplotlib.pyplot as plt"
   ]
  },
  {
   "cell_type": "code",
   "execution_count": 10,
   "metadata": {
    "collapsed": false
   },
   "outputs": [
    {
     "data": {
      "application/javascript": [
       "/* Put everything inside the global mpl namespace */\n",
       "window.mpl = {};\n",
       "\n",
       "mpl.get_websocket_type = function() {\n",
       "    if (typeof(WebSocket) !== 'undefined') {\n",
       "        return WebSocket;\n",
       "    } else if (typeof(MozWebSocket) !== 'undefined') {\n",
       "        return MozWebSocket;\n",
       "    } else {\n",
       "        alert('Your browser does not have WebSocket support.' +\n",
       "              'Please try Chrome, Safari or Firefox ≥ 6. ' +\n",
       "              'Firefox 4 and 5 are also supported but you ' +\n",
       "              'have to enable WebSockets in about:config.');\n",
       "    };\n",
       "}\n",
       "\n",
       "mpl.figure = function(figure_id, websocket, ondownload, parent_element) {\n",
       "    this.id = figure_id;\n",
       "\n",
       "    this.ws = websocket;\n",
       "\n",
       "    this.supports_binary = (this.ws.binaryType != undefined);\n",
       "\n",
       "    if (!this.supports_binary) {\n",
       "        var warnings = document.getElementById(\"mpl-warnings\");\n",
       "        if (warnings) {\n",
       "            warnings.style.display = 'block';\n",
       "            warnings.textContent = (\n",
       "                \"This browser does not support binary websocket messages. \" +\n",
       "                    \"Performance may be slow.\");\n",
       "        }\n",
       "    }\n",
       "\n",
       "    this.imageObj = new Image();\n",
       "\n",
       "    this.context = undefined;\n",
       "    this.message = undefined;\n",
       "    this.canvas = undefined;\n",
       "    this.rubberband_canvas = undefined;\n",
       "    this.rubberband_context = undefined;\n",
       "    this.format_dropdown = undefined;\n",
       "\n",
       "    this.image_mode = 'full';\n",
       "\n",
       "    this.root = $('<div/>');\n",
       "    this._root_extra_style(this.root)\n",
       "    this.root.attr('style', 'display: inline-block');\n",
       "\n",
       "    $(parent_element).append(this.root);\n",
       "\n",
       "    this._init_header(this);\n",
       "    this._init_canvas(this);\n",
       "    this._init_toolbar(this);\n",
       "\n",
       "    var fig = this;\n",
       "\n",
       "    this.waiting = false;\n",
       "\n",
       "    this.ws.onopen =  function () {\n",
       "            fig.send_message(\"supports_binary\", {value: fig.supports_binary});\n",
       "            fig.send_message(\"send_image_mode\", {});\n",
       "            fig.send_message(\"refresh\", {});\n",
       "        }\n",
       "\n",
       "    this.imageObj.onload = function() {\n",
       "            if (fig.image_mode == 'full') {\n",
       "                // Full images could contain transparency (where diff images\n",
       "                // almost always do), so we need to clear the canvas so that\n",
       "                // there is no ghosting.\n",
       "                fig.context.clearRect(0, 0, fig.canvas.width, fig.canvas.height);\n",
       "            }\n",
       "            fig.context.drawImage(fig.imageObj, 0, 0);\n",
       "        };\n",
       "\n",
       "    this.imageObj.onunload = function() {\n",
       "        this.ws.close();\n",
       "    }\n",
       "\n",
       "    this.ws.onmessage = this._make_on_message_function(this);\n",
       "\n",
       "    this.ondownload = ondownload;\n",
       "}\n",
       "\n",
       "mpl.figure.prototype._init_header = function() {\n",
       "    var titlebar = $(\n",
       "        '<div class=\"ui-dialog-titlebar ui-widget-header ui-corner-all ' +\n",
       "        'ui-helper-clearfix\"/>');\n",
       "    var titletext = $(\n",
       "        '<div class=\"ui-dialog-title\" style=\"width: 100%; ' +\n",
       "        'text-align: center; padding: 3px;\"/>');\n",
       "    titlebar.append(titletext)\n",
       "    this.root.append(titlebar);\n",
       "    this.header = titletext[0];\n",
       "}\n",
       "\n",
       "\n",
       "\n",
       "mpl.figure.prototype._canvas_extra_style = function(canvas_div) {\n",
       "\n",
       "}\n",
       "\n",
       "\n",
       "mpl.figure.prototype._root_extra_style = function(canvas_div) {\n",
       "\n",
       "}\n",
       "\n",
       "mpl.figure.prototype._init_canvas = function() {\n",
       "    var fig = this;\n",
       "\n",
       "    var canvas_div = $('<div/>');\n",
       "\n",
       "    canvas_div.attr('style', 'position: relative; clear: both; outline: 0');\n",
       "\n",
       "    function canvas_keyboard_event(event) {\n",
       "        return fig.key_event(event, event['data']);\n",
       "    }\n",
       "\n",
       "    canvas_div.keydown('key_press', canvas_keyboard_event);\n",
       "    canvas_div.keyup('key_release', canvas_keyboard_event);\n",
       "    this.canvas_div = canvas_div\n",
       "    this._canvas_extra_style(canvas_div)\n",
       "    this.root.append(canvas_div);\n",
       "\n",
       "    var canvas = $('<canvas/>');\n",
       "    canvas.addClass('mpl-canvas');\n",
       "    canvas.attr('style', \"left: 0; top: 0; z-index: 0; outline: 0\")\n",
       "\n",
       "    this.canvas = canvas[0];\n",
       "    this.context = canvas[0].getContext(\"2d\");\n",
       "\n",
       "    var rubberband = $('<canvas/>');\n",
       "    rubberband.attr('style', \"position: absolute; left: 0; top: 0; z-index: 1;\")\n",
       "\n",
       "    var pass_mouse_events = true;\n",
       "\n",
       "    canvas_div.resizable({\n",
       "        start: function(event, ui) {\n",
       "            pass_mouse_events = false;\n",
       "        },\n",
       "        resize: function(event, ui) {\n",
       "            fig.request_resize(ui.size.width, ui.size.height);\n",
       "        },\n",
       "        stop: function(event, ui) {\n",
       "            pass_mouse_events = true;\n",
       "            fig.request_resize(ui.size.width, ui.size.height);\n",
       "        },\n",
       "    });\n",
       "\n",
       "    function mouse_event_fn(event) {\n",
       "        if (pass_mouse_events)\n",
       "            return fig.mouse_event(event, event['data']);\n",
       "    }\n",
       "\n",
       "    rubberband.mousedown('button_press', mouse_event_fn);\n",
       "    rubberband.mouseup('button_release', mouse_event_fn);\n",
       "    // Throttle sequential mouse events to 1 every 20ms.\n",
       "    rubberband.mousemove('motion_notify', mouse_event_fn);\n",
       "\n",
       "    rubberband.mouseenter('figure_enter', mouse_event_fn);\n",
       "    rubberband.mouseleave('figure_leave', mouse_event_fn);\n",
       "\n",
       "    canvas_div.on(\"wheel\", function (event) {\n",
       "        event = event.originalEvent;\n",
       "        event['data'] = 'scroll'\n",
       "        if (event.deltaY < 0) {\n",
       "            event.step = 1;\n",
       "        } else {\n",
       "            event.step = -1;\n",
       "        }\n",
       "        mouse_event_fn(event);\n",
       "    });\n",
       "\n",
       "    canvas_div.append(canvas);\n",
       "    canvas_div.append(rubberband);\n",
       "\n",
       "    this.rubberband = rubberband;\n",
       "    this.rubberband_canvas = rubberband[0];\n",
       "    this.rubberband_context = rubberband[0].getContext(\"2d\");\n",
       "    this.rubberband_context.strokeStyle = \"#000000\";\n",
       "\n",
       "    this._resize_canvas = function(width, height) {\n",
       "        // Keep the size of the canvas, canvas container, and rubber band\n",
       "        // canvas in synch.\n",
       "        canvas_div.css('width', width)\n",
       "        canvas_div.css('height', height)\n",
       "\n",
       "        canvas.attr('width', width);\n",
       "        canvas.attr('height', height);\n",
       "\n",
       "        rubberband.attr('width', width);\n",
       "        rubberband.attr('height', height);\n",
       "    }\n",
       "\n",
       "    // Set the figure to an initial 600x600px, this will subsequently be updated\n",
       "    // upon first draw.\n",
       "    this._resize_canvas(600, 600);\n",
       "\n",
       "    // Disable right mouse context menu.\n",
       "    $(this.rubberband_canvas).bind(\"contextmenu\",function(e){\n",
       "        return false;\n",
       "    });\n",
       "\n",
       "    function set_focus () {\n",
       "        canvas.focus();\n",
       "        canvas_div.focus();\n",
       "    }\n",
       "\n",
       "    window.setTimeout(set_focus, 100);\n",
       "}\n",
       "\n",
       "mpl.figure.prototype._init_toolbar = function() {\n",
       "    var fig = this;\n",
       "\n",
       "    var nav_element = $('<div/>')\n",
       "    nav_element.attr('style', 'width: 100%');\n",
       "    this.root.append(nav_element);\n",
       "\n",
       "    // Define a callback function for later on.\n",
       "    function toolbar_event(event) {\n",
       "        return fig.toolbar_button_onclick(event['data']);\n",
       "    }\n",
       "    function toolbar_mouse_event(event) {\n",
       "        return fig.toolbar_button_onmouseover(event['data']);\n",
       "    }\n",
       "\n",
       "    for(var toolbar_ind in mpl.toolbar_items) {\n",
       "        var name = mpl.toolbar_items[toolbar_ind][0];\n",
       "        var tooltip = mpl.toolbar_items[toolbar_ind][1];\n",
       "        var image = mpl.toolbar_items[toolbar_ind][2];\n",
       "        var method_name = mpl.toolbar_items[toolbar_ind][3];\n",
       "\n",
       "        if (!name) {\n",
       "            // put a spacer in here.\n",
       "            continue;\n",
       "        }\n",
       "        var button = $('<button/>');\n",
       "        button.addClass('ui-button ui-widget ui-state-default ui-corner-all ' +\n",
       "                        'ui-button-icon-only');\n",
       "        button.attr('role', 'button');\n",
       "        button.attr('aria-disabled', 'false');\n",
       "        button.click(method_name, toolbar_event);\n",
       "        button.mouseover(tooltip, toolbar_mouse_event);\n",
       "\n",
       "        var icon_img = $('<span/>');\n",
       "        icon_img.addClass('ui-button-icon-primary ui-icon');\n",
       "        icon_img.addClass(image);\n",
       "        icon_img.addClass('ui-corner-all');\n",
       "\n",
       "        var tooltip_span = $('<span/>');\n",
       "        tooltip_span.addClass('ui-button-text');\n",
       "        tooltip_span.html(tooltip);\n",
       "\n",
       "        button.append(icon_img);\n",
       "        button.append(tooltip_span);\n",
       "\n",
       "        nav_element.append(button);\n",
       "    }\n",
       "\n",
       "    var fmt_picker_span = $('<span/>');\n",
       "\n",
       "    var fmt_picker = $('<select/>');\n",
       "    fmt_picker.addClass('mpl-toolbar-option ui-widget ui-widget-content');\n",
       "    fmt_picker_span.append(fmt_picker);\n",
       "    nav_element.append(fmt_picker_span);\n",
       "    this.format_dropdown = fmt_picker[0];\n",
       "\n",
       "    for (var ind in mpl.extensions) {\n",
       "        var fmt = mpl.extensions[ind];\n",
       "        var option = $(\n",
       "            '<option/>', {selected: fmt === mpl.default_extension}).html(fmt);\n",
       "        fmt_picker.append(option)\n",
       "    }\n",
       "\n",
       "    // Add hover states to the ui-buttons\n",
       "    $( \".ui-button\" ).hover(\n",
       "        function() { $(this).addClass(\"ui-state-hover\");},\n",
       "        function() { $(this).removeClass(\"ui-state-hover\");}\n",
       "    );\n",
       "\n",
       "    var status_bar = $('<span class=\"mpl-message\"/>');\n",
       "    nav_element.append(status_bar);\n",
       "    this.message = status_bar[0];\n",
       "}\n",
       "\n",
       "mpl.figure.prototype.request_resize = function(x_pixels, y_pixels) {\n",
       "    // Request matplotlib to resize the figure. Matplotlib will then trigger a resize in the client,\n",
       "    // which will in turn request a refresh of the image.\n",
       "    this.send_message('resize', {'width': x_pixels, 'height': y_pixels});\n",
       "}\n",
       "\n",
       "mpl.figure.prototype.send_message = function(type, properties) {\n",
       "    properties['type'] = type;\n",
       "    properties['figure_id'] = this.id;\n",
       "    this.ws.send(JSON.stringify(properties));\n",
       "}\n",
       "\n",
       "mpl.figure.prototype.send_draw_message = function() {\n",
       "    if (!this.waiting) {\n",
       "        this.waiting = true;\n",
       "        this.ws.send(JSON.stringify({type: \"draw\", figure_id: this.id}));\n",
       "    }\n",
       "}\n",
       "\n",
       "\n",
       "mpl.figure.prototype.handle_save = function(fig, msg) {\n",
       "    var format_dropdown = fig.format_dropdown;\n",
       "    var format = format_dropdown.options[format_dropdown.selectedIndex].value;\n",
       "    fig.ondownload(fig, format);\n",
       "}\n",
       "\n",
       "\n",
       "mpl.figure.prototype.handle_resize = function(fig, msg) {\n",
       "    var size = msg['size'];\n",
       "    if (size[0] != fig.canvas.width || size[1] != fig.canvas.height) {\n",
       "        fig._resize_canvas(size[0], size[1]);\n",
       "        fig.send_message(\"refresh\", {});\n",
       "    };\n",
       "}\n",
       "\n",
       "mpl.figure.prototype.handle_rubberband = function(fig, msg) {\n",
       "    var x0 = msg['x0'];\n",
       "    var y0 = fig.canvas.height - msg['y0'];\n",
       "    var x1 = msg['x1'];\n",
       "    var y1 = fig.canvas.height - msg['y1'];\n",
       "    x0 = Math.floor(x0) + 0.5;\n",
       "    y0 = Math.floor(y0) + 0.5;\n",
       "    x1 = Math.floor(x1) + 0.5;\n",
       "    y1 = Math.floor(y1) + 0.5;\n",
       "    var min_x = Math.min(x0, x1);\n",
       "    var min_y = Math.min(y0, y1);\n",
       "    var width = Math.abs(x1 - x0);\n",
       "    var height = Math.abs(y1 - y0);\n",
       "\n",
       "    fig.rubberband_context.clearRect(\n",
       "        0, 0, fig.canvas.width, fig.canvas.height);\n",
       "\n",
       "    fig.rubberband_context.strokeRect(min_x, min_y, width, height);\n",
       "}\n",
       "\n",
       "mpl.figure.prototype.handle_figure_label = function(fig, msg) {\n",
       "    // Updates the figure title.\n",
       "    fig.header.textContent = msg['label'];\n",
       "}\n",
       "\n",
       "mpl.figure.prototype.handle_cursor = function(fig, msg) {\n",
       "    var cursor = msg['cursor'];\n",
       "    switch(cursor)\n",
       "    {\n",
       "    case 0:\n",
       "        cursor = 'pointer';\n",
       "        break;\n",
       "    case 1:\n",
       "        cursor = 'default';\n",
       "        break;\n",
       "    case 2:\n",
       "        cursor = 'crosshair';\n",
       "        break;\n",
       "    case 3:\n",
       "        cursor = 'move';\n",
       "        break;\n",
       "    }\n",
       "    fig.rubberband_canvas.style.cursor = cursor;\n",
       "}\n",
       "\n",
       "mpl.figure.prototype.handle_message = function(fig, msg) {\n",
       "    fig.message.textContent = msg['message'];\n",
       "}\n",
       "\n",
       "mpl.figure.prototype.handle_draw = function(fig, msg) {\n",
       "    // Request the server to send over a new figure.\n",
       "    fig.send_draw_message();\n",
       "}\n",
       "\n",
       "mpl.figure.prototype.handle_image_mode = function(fig, msg) {\n",
       "    fig.image_mode = msg['mode'];\n",
       "}\n",
       "\n",
       "mpl.figure.prototype.updated_canvas_event = function() {\n",
       "    // Called whenever the canvas gets updated.\n",
       "    this.send_message(\"ack\", {});\n",
       "}\n",
       "\n",
       "// A function to construct a web socket function for onmessage handling.\n",
       "// Called in the figure constructor.\n",
       "mpl.figure.prototype._make_on_message_function = function(fig) {\n",
       "    return function socket_on_message(evt) {\n",
       "        if (evt.data instanceof Blob) {\n",
       "            /* FIXME: We get \"Resource interpreted as Image but\n",
       "             * transferred with MIME type text/plain:\" errors on\n",
       "             * Chrome.  But how to set the MIME type?  It doesn't seem\n",
       "             * to be part of the websocket stream */\n",
       "            evt.data.type = \"image/png\";\n",
       "\n",
       "            /* Free the memory for the previous frames */\n",
       "            if (fig.imageObj.src) {\n",
       "                (window.URL || window.webkitURL).revokeObjectURL(\n",
       "                    fig.imageObj.src);\n",
       "            }\n",
       "\n",
       "            fig.imageObj.src = (window.URL || window.webkitURL).createObjectURL(\n",
       "                evt.data);\n",
       "            fig.updated_canvas_event();\n",
       "            fig.waiting = false;\n",
       "            return;\n",
       "        }\n",
       "        else if (typeof evt.data === 'string' && evt.data.slice(0, 21) == \"data:image/png;base64\") {\n",
       "            fig.imageObj.src = evt.data;\n",
       "            fig.updated_canvas_event();\n",
       "            fig.waiting = false;\n",
       "            return;\n",
       "        }\n",
       "\n",
       "        var msg = JSON.parse(evt.data);\n",
       "        var msg_type = msg['type'];\n",
       "\n",
       "        // Call the  \"handle_{type}\" callback, which takes\n",
       "        // the figure and JSON message as its only arguments.\n",
       "        try {\n",
       "            var callback = fig[\"handle_\" + msg_type];\n",
       "        } catch (e) {\n",
       "            console.log(\"No handler for the '\" + msg_type + \"' message type: \", msg);\n",
       "            return;\n",
       "        }\n",
       "\n",
       "        if (callback) {\n",
       "            try {\n",
       "                // console.log(\"Handling '\" + msg_type + \"' message: \", msg);\n",
       "                callback(fig, msg);\n",
       "            } catch (e) {\n",
       "                console.log(\"Exception inside the 'handler_\" + msg_type + \"' callback:\", e, e.stack, msg);\n",
       "            }\n",
       "        }\n",
       "    };\n",
       "}\n",
       "\n",
       "// from http://stackoverflow.com/questions/1114465/getting-mouse-location-in-canvas\n",
       "mpl.findpos = function(e) {\n",
       "    //this section is from http://www.quirksmode.org/js/events_properties.html\n",
       "    var targ;\n",
       "    if (!e)\n",
       "        e = window.event;\n",
       "    if (e.target)\n",
       "        targ = e.target;\n",
       "    else if (e.srcElement)\n",
       "        targ = e.srcElement;\n",
       "    if (targ.nodeType == 3) // defeat Safari bug\n",
       "        targ = targ.parentNode;\n",
       "\n",
       "    // jQuery normalizes the pageX and pageY\n",
       "    // pageX,Y are the mouse positions relative to the document\n",
       "    // offset() returns the position of the element relative to the document\n",
       "    var x = e.pageX - $(targ).offset().left;\n",
       "    var y = e.pageY - $(targ).offset().top;\n",
       "\n",
       "    return {\"x\": x, \"y\": y};\n",
       "};\n",
       "\n",
       "/*\n",
       " * return a copy of an object with only non-object keys\n",
       " * we need this to avoid circular references\n",
       " * http://stackoverflow.com/a/24161582/3208463\n",
       " */\n",
       "function simpleKeys (original) {\n",
       "  return Object.keys(original).reduce(function (obj, key) {\n",
       "    if (typeof original[key] !== 'object')\n",
       "        obj[key] = original[key]\n",
       "    return obj;\n",
       "  }, {});\n",
       "}\n",
       "\n",
       "mpl.figure.prototype.mouse_event = function(event, name) {\n",
       "    var canvas_pos = mpl.findpos(event)\n",
       "\n",
       "    if (name === 'button_press')\n",
       "    {\n",
       "        this.canvas.focus();\n",
       "        this.canvas_div.focus();\n",
       "    }\n",
       "\n",
       "    var x = canvas_pos.x;\n",
       "    var y = canvas_pos.y;\n",
       "\n",
       "    this.send_message(name, {x: x, y: y, button: event.button,\n",
       "                             step: event.step,\n",
       "                             guiEvent: simpleKeys(event)});\n",
       "\n",
       "    /* This prevents the web browser from automatically changing to\n",
       "     * the text insertion cursor when the button is pressed.  We want\n",
       "     * to control all of the cursor setting manually through the\n",
       "     * 'cursor' event from matplotlib */\n",
       "    event.preventDefault();\n",
       "    return false;\n",
       "}\n",
       "\n",
       "mpl.figure.prototype._key_event_extra = function(event, name) {\n",
       "    // Handle any extra behaviour associated with a key event\n",
       "}\n",
       "\n",
       "mpl.figure.prototype.key_event = function(event, name) {\n",
       "\n",
       "    // Prevent repeat events\n",
       "    if (name == 'key_press')\n",
       "    {\n",
       "        if (event.which === this._key)\n",
       "            return;\n",
       "        else\n",
       "            this._key = event.which;\n",
       "    }\n",
       "    if (name == 'key_release')\n",
       "        this._key = null;\n",
       "\n",
       "    var value = '';\n",
       "    if (event.ctrlKey && event.which != 17)\n",
       "        value += \"ctrl+\";\n",
       "    if (event.altKey && event.which != 18)\n",
       "        value += \"alt+\";\n",
       "    if (event.shiftKey && event.which != 16)\n",
       "        value += \"shift+\";\n",
       "\n",
       "    value += 'k';\n",
       "    value += event.which.toString();\n",
       "\n",
       "    this._key_event_extra(event, name);\n",
       "\n",
       "    this.send_message(name, {key: value,\n",
       "                             guiEvent: simpleKeys(event)});\n",
       "    return false;\n",
       "}\n",
       "\n",
       "mpl.figure.prototype.toolbar_button_onclick = function(name) {\n",
       "    if (name == 'download') {\n",
       "        this.handle_save(this, null);\n",
       "    } else {\n",
       "        this.send_message(\"toolbar_button\", {name: name});\n",
       "    }\n",
       "};\n",
       "\n",
       "mpl.figure.prototype.toolbar_button_onmouseover = function(tooltip) {\n",
       "    this.message.textContent = tooltip;\n",
       "};\n",
       "mpl.toolbar_items = [[\"Home\", \"Reset original view\", \"fa fa-home icon-home\", \"home\"], [\"Back\", \"Back to  previous view\", \"fa fa-arrow-left icon-arrow-left\", \"back\"], [\"Forward\", \"Forward to next view\", \"fa fa-arrow-right icon-arrow-right\", \"forward\"], [\"\", \"\", \"\", \"\"], [\"Pan\", \"Pan axes with left mouse, zoom with right\", \"fa fa-arrows icon-move\", \"pan\"], [\"Zoom\", \"Zoom to rectangle\", \"fa fa-square-o icon-check-empty\", \"zoom\"], [\"\", \"\", \"\", \"\"], [\"Download\", \"Download plot\", \"fa fa-floppy-o icon-save\", \"download\"]];\n",
       "\n",
       "mpl.extensions = [\"eps\", \"jpeg\", \"pdf\", \"png\", \"ps\", \"raw\", \"svg\", \"tif\"];\n",
       "\n",
       "mpl.default_extension = \"png\";var comm_websocket_adapter = function(comm) {\n",
       "    // Create a \"websocket\"-like object which calls the given IPython comm\n",
       "    // object with the appropriate methods. Currently this is a non binary\n",
       "    // socket, so there is still some room for performance tuning.\n",
       "    var ws = {};\n",
       "\n",
       "    ws.close = function() {\n",
       "        comm.close()\n",
       "    };\n",
       "    ws.send = function(m) {\n",
       "        //console.log('sending', m);\n",
       "        comm.send(m);\n",
       "    };\n",
       "    // Register the callback with on_msg.\n",
       "    comm.on_msg(function(msg) {\n",
       "        //console.log('receiving', msg['content']['data'], msg);\n",
       "        // Pass the mpl event to the overriden (by mpl) onmessage function.\n",
       "        ws.onmessage(msg['content']['data'])\n",
       "    });\n",
       "    return ws;\n",
       "}\n",
       "\n",
       "mpl.mpl_figure_comm = function(comm, msg) {\n",
       "    // This is the function which gets called when the mpl process\n",
       "    // starts-up an IPython Comm through the \"matplotlib\" channel.\n",
       "\n",
       "    var id = msg.content.data.id;\n",
       "    // Get hold of the div created by the display call when the Comm\n",
       "    // socket was opened in Python.\n",
       "    var element = $(\"#\" + id);\n",
       "    var ws_proxy = comm_websocket_adapter(comm)\n",
       "\n",
       "    function ondownload(figure, format) {\n",
       "        window.open(figure.imageObj.src);\n",
       "    }\n",
       "\n",
       "    var fig = new mpl.figure(id, ws_proxy,\n",
       "                           ondownload,\n",
       "                           element.get(0));\n",
       "\n",
       "    // Call onopen now - mpl needs it, as it is assuming we've passed it a real\n",
       "    // web socket which is closed, not our websocket->open comm proxy.\n",
       "    ws_proxy.onopen();\n",
       "\n",
       "    fig.parent_element = element.get(0);\n",
       "    fig.cell_info = mpl.find_output_cell(\"<div id='\" + id + \"'></div>\");\n",
       "    if (!fig.cell_info) {\n",
       "        console.error(\"Failed to find cell for figure\", id, fig);\n",
       "        return;\n",
       "    }\n",
       "\n",
       "    var output_index = fig.cell_info[2]\n",
       "    var cell = fig.cell_info[0];\n",
       "\n",
       "};\n",
       "\n",
       "mpl.figure.prototype.handle_close = function(fig, msg) {\n",
       "    fig.root.unbind('remove')\n",
       "\n",
       "    // Update the output cell to use the data from the current canvas.\n",
       "    fig.push_to_output();\n",
       "    var dataURL = fig.canvas.toDataURL();\n",
       "    // Re-enable the keyboard manager in IPython - without this line, in FF,\n",
       "    // the notebook keyboard shortcuts fail.\n",
       "    IPython.keyboard_manager.enable()\n",
       "    $(fig.parent_element).html('<img src=\"' + dataURL + '\">');\n",
       "    fig.close_ws(fig, msg);\n",
       "}\n",
       "\n",
       "mpl.figure.prototype.close_ws = function(fig, msg){\n",
       "    fig.send_message('closing', msg);\n",
       "    // fig.ws.close()\n",
       "}\n",
       "\n",
       "mpl.figure.prototype.push_to_output = function(remove_interactive) {\n",
       "    // Turn the data on the canvas into data in the output cell.\n",
       "    var dataURL = this.canvas.toDataURL();\n",
       "    this.cell_info[1]['text/html'] = '<img src=\"' + dataURL + '\">';\n",
       "}\n",
       "\n",
       "mpl.figure.prototype.updated_canvas_event = function() {\n",
       "    // Tell IPython that the notebook contents must change.\n",
       "    IPython.notebook.set_dirty(true);\n",
       "    this.send_message(\"ack\", {});\n",
       "    var fig = this;\n",
       "    // Wait a second, then push the new image to the DOM so\n",
       "    // that it is saved nicely (might be nice to debounce this).\n",
       "    setTimeout(function () { fig.push_to_output() }, 1000);\n",
       "}\n",
       "\n",
       "mpl.figure.prototype._init_toolbar = function() {\n",
       "    var fig = this;\n",
       "\n",
       "    var nav_element = $('<div/>')\n",
       "    nav_element.attr('style', 'width: 100%');\n",
       "    this.root.append(nav_element);\n",
       "\n",
       "    // Define a callback function for later on.\n",
       "    function toolbar_event(event) {\n",
       "        return fig.toolbar_button_onclick(event['data']);\n",
       "    }\n",
       "    function toolbar_mouse_event(event) {\n",
       "        return fig.toolbar_button_onmouseover(event['data']);\n",
       "    }\n",
       "\n",
       "    for(var toolbar_ind in mpl.toolbar_items){\n",
       "        var name = mpl.toolbar_items[toolbar_ind][0];\n",
       "        var tooltip = mpl.toolbar_items[toolbar_ind][1];\n",
       "        var image = mpl.toolbar_items[toolbar_ind][2];\n",
       "        var method_name = mpl.toolbar_items[toolbar_ind][3];\n",
       "\n",
       "        if (!name) { continue; };\n",
       "\n",
       "        var button = $('<button class=\"btn btn-default\" href=\"#\" title=\"' + name + '\"><i class=\"fa ' + image + ' fa-lg\"></i></button>');\n",
       "        button.click(method_name, toolbar_event);\n",
       "        button.mouseover(tooltip, toolbar_mouse_event);\n",
       "        nav_element.append(button);\n",
       "    }\n",
       "\n",
       "    // Add the status bar.\n",
       "    var status_bar = $('<span class=\"mpl-message\" style=\"text-align:right; float: right;\"/>');\n",
       "    nav_element.append(status_bar);\n",
       "    this.message = status_bar[0];\n",
       "\n",
       "    // Add the close button to the window.\n",
       "    var buttongrp = $('<div class=\"btn-group inline pull-right\"></div>');\n",
       "    var button = $('<button class=\"btn btn-mini btn-primary\" href=\"#\" title=\"Stop Interaction\"><i class=\"fa fa-power-off icon-remove icon-large\"></i></button>');\n",
       "    button.click(function (evt) { fig.handle_close(fig, {}); } );\n",
       "    button.mouseover('Stop Interaction', toolbar_mouse_event);\n",
       "    buttongrp.append(button);\n",
       "    var titlebar = this.root.find($('.ui-dialog-titlebar'));\n",
       "    titlebar.prepend(buttongrp);\n",
       "}\n",
       "\n",
       "mpl.figure.prototype._root_extra_style = function(el){\n",
       "    var fig = this\n",
       "    el.on(\"remove\", function(){\n",
       "\tfig.close_ws(fig, {});\n",
       "    });\n",
       "}\n",
       "\n",
       "mpl.figure.prototype._canvas_extra_style = function(el){\n",
       "    // this is important to make the div 'focusable\n",
       "    el.attr('tabindex', 0)\n",
       "    // reach out to IPython and tell the keyboard manager to turn it's self\n",
       "    // off when our div gets focus\n",
       "\n",
       "    // location in version 3\n",
       "    if (IPython.notebook.keyboard_manager) {\n",
       "        IPython.notebook.keyboard_manager.register_events(el);\n",
       "    }\n",
       "    else {\n",
       "        // location in version 2\n",
       "        IPython.keyboard_manager.register_events(el);\n",
       "    }\n",
       "\n",
       "}\n",
       "\n",
       "mpl.figure.prototype._key_event_extra = function(event, name) {\n",
       "    var manager = IPython.notebook.keyboard_manager;\n",
       "    if (!manager)\n",
       "        manager = IPython.keyboard_manager;\n",
       "\n",
       "    // Check for shift+enter\n",
       "    if (event.shiftKey && event.which == 13) {\n",
       "        this.canvas_div.blur();\n",
       "        // select the cell after this one\n",
       "        var index = IPython.notebook.find_cell_index(this.cell_info[0]);\n",
       "        IPython.notebook.select(index + 1);\n",
       "    }\n",
       "}\n",
       "\n",
       "mpl.figure.prototype.handle_save = function(fig, msg) {\n",
       "    fig.ondownload(fig, null);\n",
       "}\n",
       "\n",
       "\n",
       "mpl.find_output_cell = function(html_output) {\n",
       "    // Return the cell and output element which can be found *uniquely* in the notebook.\n",
       "    // Note - this is a bit hacky, but it is done because the \"notebook_saving.Notebook\"\n",
       "    // IPython event is triggered only after the cells have been serialised, which for\n",
       "    // our purposes (turning an active figure into a static one), is too late.\n",
       "    var cells = IPython.notebook.get_cells();\n",
       "    var ncells = cells.length;\n",
       "    for (var i=0; i<ncells; i++) {\n",
       "        var cell = cells[i];\n",
       "        if (cell.cell_type === 'code'){\n",
       "            for (var j=0; j<cell.output_area.outputs.length; j++) {\n",
       "                var data = cell.output_area.outputs[j];\n",
       "                if (data.data) {\n",
       "                    // IPython >= 3 moved mimebundle to data attribute of output\n",
       "                    data = data.data;\n",
       "                }\n",
       "                if (data['text/html'] == html_output) {\n",
       "                    return [cell, data, j];\n",
       "                }\n",
       "            }\n",
       "        }\n",
       "    }\n",
       "}\n",
       "\n",
       "// Register the function which deals with the matplotlib target/channel.\n",
       "// The kernel may be null if the page has been refreshed.\n",
       "if (IPython.notebook.kernel != null) {\n",
       "    IPython.notebook.kernel.comm_manager.register_target('matplotlib', mpl.mpl_figure_comm);\n",
       "}\n"
      ],
      "text/plain": [
       "<IPython.core.display.Javascript object>"
      ]
     },
     "metadata": {},
     "output_type": "display_data"
    },
    {
     "data": {
      "text/html": [
       "<img src=\"data:image/png;base64,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\">"
      ],
      "text/plain": [
       "<IPython.core.display.HTML object>"
      ]
     },
     "metadata": {},
     "output_type": "display_data"
    },
    {
     "data": {
      "text/plain": [
       "<matplotlib.collections.PathCollection at 0x7bceda0>"
      ]
     },
     "execution_count": 10,
     "metadata": {},
     "output_type": "execute_result"
    }
   ],
   "source": [
    "plt.scatter([1, 2, 3], [4, 2, 5])"
   ]
  },
  {
   "cell_type": "code",
   "execution_count": 11,
   "metadata": {
    "collapsed": false
   },
   "outputs": [
    {
     "name": "stdout",
     "output_type": "stream",
     "text": [
      "plt\t \n"
     ]
    }
   ],
   "source": [
    "%who"
   ]
  },
  {
   "cell_type": "code",
   "execution_count": null,
   "metadata": {
    "collapsed": true
   },
   "outputs": [],
   "source": []
  }
 ],
 "metadata": {
  "anaconda-cloud": {},
  "kernelspec": {
   "display_name": "Python [default]",
   "language": "python",
   "name": "python3"
  },
  "language_info": {
   "codemirror_mode": {
    "name": "ipython",
    "version": 3
   },
   "file_extension": ".py",
   "mimetype": "text/x-python",
   "name": "python",
   "nbconvert_exporter": "python",
   "pygments_lexer": "ipython3",
   "version": "3.5.2"
  }
 },
 "nbformat": 4,
 "nbformat_minor": 1
}
