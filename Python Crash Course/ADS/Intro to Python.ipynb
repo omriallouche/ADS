{
 "cells": [
  {
   "cell_type": "markdown",
   "metadata": {},
   "source": [
    "# Python Crash Course\n",
    "\n",
    "This section is meant as a very quick introduction to the Python language. It assumes you know the basic concepts of programming, including basic data types, conditionals, loops, functions etc.\n",
    "For a more in-depth review of Python and programming, I recommend the following resources:\n",
    "\n",
    "* [Python Data Science Handbook (Book, Paid)](https://github.com/jakevdp/PythonDataScienceHandbook)"
   ]
  },
  {
   "cell_type": "markdown",
   "metadata": {},
   "source": [
    "### [Numbers](Numbers.ipynb)\n",
    "### [Misc](Misc.ipynb)\n",
    "### [Strings](Strings.ipynb)\n",
    "### [Lists](Lists.ipynb)\n",
    "### [Dictionaries](Dictionaries.ipynb)\n",
    "### [Tuples](Tuples.ipynb)\n",
    "### [Sets](Sets.ipynb)\n",
    "### [Booleans](Booleans.ipynb)\n",
    "### [- Exercises](Exercises.ipynb)\n",
    "### [If, For, While, Range](If, For, While, Range.ipynb)\n",
    "### [List Comprehensions](List Comprehensions.ipynb)\n",
    "### [- Exercies](Exercises2.ipynb)\n",
    "### [Functions](Functions.ipynb)\n",
    "### [Lambda Expressions](Lambda expressions.ipynb)\n",
    "### [Map](Map.ipynb)\n",
    "### [Filter](Filter.ipynb)\n",
    "### [Modules](Modules and Packages.ipynb)"
   ]
  },
  {
   "cell_type": "markdown",
   "metadata": {},
   "source": [
    "## Homework\n",
    "- Read \"[A Few Useful Things to Know about Machine Learning](http://homes.cs.washington.edu/~pedrod/papers/cacm12.pdf)\".\n",
    "- Familiarize yourself with Jupyter Notebooks, including \n",
    "  - [Keyboard Shortcuts](https://gist.github.com/kidpixo/f4318f8c8143adee5b40)\n",
    "  - [Markdown syntax](https://github.com/adam-p/markdown-here/wiki/Markdown-Cheatsheet)\n",
    "- Install an RSS feed app on your mobile phone (I personally use [Feedly](feedly.com)), and subscribe to the RSS feed of [Analytics Vidhya](https://www.analyticsvidhya.com/blog/)\n",
    "- Subscribe to the weekly newsletter of \n",
    "- Install [Anaconda](https://www.continuum.io/downloads) on your local laptop/desktop\n",
    "- Follow Scikit Learns basic [Introduction to Machine Learning](http://scikit-learn.org/stable/tutorial/basic/tutorial.html) (make sure you run the code yourself, using Jupyter Notebook!)"
   ]
  },
  {
   "cell_type": "code",
   "execution_count": null,
   "metadata": {},
   "outputs": [],
   "source": []
  }
 ],
 "metadata": {
  "anaconda-cloud": {},
  "kernelspec": {
   "display_name": "Python [default]",
   "language": "python",
   "name": "python3"
  },
  "language_info": {
   "codemirror_mode": {
    "name": "ipython",
    "version": 3
   },
   "file_extension": ".py",
   "mimetype": "text/x-python",
   "name": "python",
   "nbconvert_exporter": "python",
   "pygments_lexer": "ipython3",
   "version": "3.5.2"
  }
 },
 "nbformat": 4,
 "nbformat_minor": 1
}
