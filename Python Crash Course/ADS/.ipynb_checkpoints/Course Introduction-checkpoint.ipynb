{
 "cells": [
  {
   "cell_type": "markdown",
   "metadata": {
    "slideshow": {
     "slide_type": "slide"
    }
   },
   "source": [
    "# Applied Data Science - Course Introduction\n",
    "\n",
    "- Class #224\n",
    "- Wednesdays 11am-2pm\n",
    "- No Tirgul Classes"
   ]
  },
  {
   "cell_type": "markdown",
   "metadata": {
    "slideshow": {
     "slide_type": "slide"
    }
   },
   "source": [
    "# Who am I?\n",
    "- Omri Allouche\n",
    "- PhD in Computational Ecology from HUJI\n",
    "- Senior Data Scientist @ Gong.io\n",
    "- omri.allouche@gmail.com"
   ]
  },
  {
   "cell_type": "markdown",
   "metadata": {},
   "source": [
    "# Main Course Topics\n",
    "1. Python for Data Analysis\n",
    "1. Information Visualization\n",
    "1. Exploratory Data Analysis\n",
    "1. Applied Machine Learning"
   ]
  },
  {
   "cell_type": "markdown",
   "metadata": {},
   "source": [
    "- Sylabus\n",
    "- Lessons usually start with a quick, non-mathematical review of an algorithm, discussion of code for implementing it, a hands-on exercise, and discussion in class\n",
    "- We will not go into the mathematical details of the algorithms\n",
    "- We will discuss important concepts in data science and machine learning\n",
    "- You should come prepared for each lesson\n",
    "    - Read the reading list\n",
    "    - Freshen up on the algorithm that will be discussed"
   ]
  },
  {
   "cell_type": "markdown",
   "metadata": {
    "slideshow": {
     "slide_type": "slide"
    }
   },
   "source": [
    "# Course Grades\n",
    "- Mostly based on a final project\n",
    "- Small part due to personal assessment - participation in class, bonus tasks etc.\n",
    "- No exam\n",
    "- Participation in class is mandatory"
   ]
  },
  {
   "cell_type": "markdown",
   "metadata": {
    "slideshow": {
     "slide_type": "slide"
    }
   },
   "source": [
    "# Final Project\n",
    "- In groups of 3\n",
    "- Go through the complete data science process\n",
    "- You will acquire the data, design your visualizations, run statistical analysis, and communicate the results\n",
    "- Analyze a dataset for interesting patterns\n",
    "- Showcase the tools you've learned during the course\n",
    "- You select the research question and dataset\n",
    "- We'll provide datasets from Israeli government authorities, HiTech companies\n",
    "- Phases:\n",
    "    - Form groups\n",
    "    - Submit a project proposal\n",
    "    - Period project reviews\n",
    "    - Final submission\n",
    "- Project should include:\n",
    "    - Code on GitHub - well written, well documented!\n",
    "    - Accompanying paper, describing the question, related work, methods, results and discussion, as a Jupyter Notebook\n",
    "    - A 2 minute Screencast / Presentation in Class. Instructions on creating a screencast can be found [here](https://docs.google.com/document/d/1alPLuBOW5YPoQDa57KZes1h72PoQDoDj21-UEKOHp1I/pub)\n",
    "- For ideas for projects, check out some of the projects done during Harvard's CS109 course in [2014](http://cs109.github.io/2014/pages/projects.html) and [2015](http://cs109.github.io/2015/pages/projects.html)"
   ]
  },
  {
   "cell_type": "markdown",
   "metadata": {
    "slideshow": {
     "slide_type": "slide"
    }
   },
   "source": [
    "## Project Paper\n",
    "Should include the following sections:\n",
    "- **Overview and Motivation:** Provide an overview of the project goals and the motivation for it. Consider that this will be read by people who did not see your project proposal.\n",
    "\n",
    "- **Related Work:** Anything that inspired you, such as a paper, a web site, or something we discussed in class.\n",
    "\n",
    "- **Initial Questions:** What questions are you trying to answer? How did these questions evolve over the course of the project? What new questions did you consider in the course of your analysis? - Data: Source, scraping method, cleanup, storage, etc.\n",
    "\n",
    "- **Exploratory Data Analysis:** What visualizations did you use to look at your data in different ways? What are the different statistical methods you considered? Justify the decisions you made, and show any major changes to your ideas. How did you reach these conclusions?\n",
    "\n",
    "- **Final Analysis:** What did you learn about the data? How did you answer the questions? How can you justify your answers?\n",
    "\n",
    "- **Presentation:** Present your final results in a compelling and engaging way using text, visualizations, images, and videos on your project web site."
   ]
  },
  {
   "cell_type": "markdown",
   "metadata": {
    "slideshow": {
     "slide_type": "slide"
    }
   },
   "source": [
    "# A Single Course Won't Make You a (Good) Data Scientist\n",
    "- Data Science is booming\n",
    "- Pace of progress is unparallelled\n",
    "- There's no silver bullet\n",
    "- No real out-of-the-box solutions\n",
    "- A few rules, meant to be broken\n",
    "- You have to be able to learn on your own, constantly\n",
    "- Read. A lot\n",
    "- Read. In English\n",
    "- Experiment & Explore\n"
   ]
  },
  {
   "cell_type": "markdown",
   "metadata": {
    "collapsed": true,
    "slideshow": {
     "slide_type": "slide"
    }
   },
   "source": [
    "# You're Learning a New Language\n",
    "- Immerse yourself in the new language\n",
    "- Don’t be intimidated if you don’t understand everything, or even most of the things\n",
    "- Learn how you learn, and use it\n",
    "    - There are great video courses & lectures online\n",
    "    - Weekly Meetups are held in Israel\n",
    "    - Many books & blog articles, for all levels \n",
    "    - Podcasts\n",
    "    - Kaggle competitions    \n",
    "- If you can't understand a concept from a specific source, try finding another one\n",
    "- Find a partner\n",
    "- Learn like a child. Experiement, and make mistakes\n",
    "- Learn a bit every day\n",
    "- Keep notes of what you don't know (or better yet, use the Spaced Repetition method)"
   ]
  },
  {
   "cell_type": "code",
   "execution_count": null,
   "metadata": {
    "collapsed": true
   },
   "outputs": [],
   "source": []
  }
 ],
 "metadata": {
  "anaconda-cloud": {},
  "celltoolbar": "Slideshow",
  "kernelspec": {
   "display_name": "Python [default]",
   "language": "python",
   "name": "python3"
  },
  "language_info": {
   "codemirror_mode": {
    "name": "ipython",
    "version": 3
   },
   "file_extension": ".py",
   "mimetype": "text/x-python",
   "name": "python",
   "nbconvert_exporter": "python",
   "pygments_lexer": "ipython3",
   "version": "3.5.2"
  }
 },
 "nbformat": 4,
 "nbformat_minor": 2
}
