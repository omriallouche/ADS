{
 "cells": [
  {
   "cell_type": "markdown",
   "metadata": {},
   "source": [
    "# Python Crash Course\n",
    "\n",
    "This lesson provides a quick introduction to the Python language. It assumes you know the basic concepts of programming, including basic data types, conditionals, loops, functions etc.\n",
    "\n",
    "For a more in-depth review of Python and programming, I recommend the following resources:\n",
    "\n",
    "* [Python Data Science Handbook (Book, Paid)](https://github.com/jakevdp/PythonDataScienceHandbook)\n",
    "* [Complete Python Bootcamp on Udemy (Video course, Paid)](https://www.udemy.com/complete-python-bootcamp/?couponCode=PY20). The course's Jupyter Notebooks are [here](https://github.com/jmportilla/Complete-Python-Bootcamp).\n",
    "* [Python 3 Essential Training on Lynda.com (Video course, Paid)](https://www.lynda.com/Python-3-tutorials/essential-training/62226-2.html)"
   ]
  },
  {
   "cell_type": "markdown",
   "metadata": {},
   "source": [
    "## The Python Language\n",
    "Python is a general purpose programming language started by Guido van Rossum that became very popular very quickly, mainly because of its simplicity and code readability. It enables the programmer to express ideas in fewer lines of code without reducing readability.\n",
    "Compared to languages like C/C++, Python is slower. That said, Python can be easily extended with C/C++, which allows us to write computationally intensive code in C/C++ and create Python wrappers that can be used as Python modules. \n"
   ]
  },
  {
   "cell_type": "markdown",
   "metadata": {},
   "source": [
    "- Developed by Guido van Rossum in the early 1990s\n",
    "- Named after Monty Python\n",
    "- Open source general-purpose language\n",
    "- Becoming a standard in scientific computing\n",
    "- Easy to use and learn\n",
    "- Interpreted language: work with an evaluator for language expressions\n",
    "- Dynamically typed: variables do not have a predefined type\n",
    "- Rich, built-in collection types (Lists, Tuples, Dictionaries (maps), Sets)\n",
    "- Concise\n",
    "- Object Oriented, Procedural, Functional\n",
    "- Great interactive environment"
   ]
  },
  {
   "cell_type": "markdown",
   "metadata": {},
   "source": [
    "## Dynamic typing – the key difference\n",
    "### Java: statically typed\n",
    "- Variables are declared to refer to objects of a given type\n",
    "- Methods use type signatures to enforce contracts \n",
    "\n",
    "### Python\n",
    "- Variables come into existence when first assigned to\n",
    "- A variable can refer to an object of any type\n",
    "- All types are (almost) treated the same way\n",
    "- Main drawback: type errors are only caught at runtime"
   ]
  },
  {
   "cell_type": "markdown",
   "metadata": {},
   "source": [
    "## The basics of Pythong code\n",
    "- Indentation matters to the meaning of the code:\n",
    "  - Block structure indicated by indentation\n",
    "- The first assignment to a variable creates it.\n",
    "  - Variable types don’t need to be declared.\n",
    "  - Python figures out the variable types on its own.\n",
    "- Assignment uses = and comparison uses ==.\n",
    "- For numbers + - * / % are as expected.\n",
    "  - Special use of + for string concatenation.\n",
    "  - Special use of % for string formatting (as with printf in C)\n",
    "- Logical operators are words (and, or, not) not symbols\n",
    "- Simple printing can be done with print."
   ]
  },
  {
   "cell_type": "markdown",
   "metadata": {},
   "source": [
    "## Whitespace\n",
    "Whitespace is meaningful in Python: especially indentation and placement of newlines.\n",
    "- Use a newline to end a line of code\n",
    "- Use \\ when must go to next line prematurely\n",
    "- No braces { } to mark blocks of code in Python... Use consistent indentation instead\n",
    "- The first line with less indentation is outside of the block\n",
    "- The first line with more indentation starts a nested block\n",
    "- Often a colon appears at the start of a new block (e.g. for function and class definitions)"
   ]
  },
  {
   "cell_type": "markdown",
   "metadata": {},
   "source": [
    "## Comments\n",
    "- Start comments with # – the rest of line is ignored.\n",
    "- Can include a “documentation string” as the first line of any new function or class that you define.\n",
    "- The development environment, debugger, and other tools use it: it’s good style to include one."
   ]
  },
  {
   "cell_type": "code",
   "execution_count": 10,
   "metadata": {
    "collapsed": true
   },
   "outputs": [],
   "source": [
    "def my_function(x, y):\n",
    "  '''This is the docstring. This\n",
    "  function does blah blah blah.'''\n",
    "  # The code would go here..."
   ]
  },
  {
   "cell_type": "markdown",
   "metadata": {},
   "source": [
    "## Assignment\n",
    "- Binding a variable in Python means setting a name to hold a reference to some object.\n",
    "- Assignment creates references, not copies (like Java)\n",
    "- A variable is created the first time it appears on the left side of an assignment expression:\n",
    "    x = 3\n",
    "- An object is deleted (by the garbage collector) once it becomes unreachable.\n",
    "- Names in Python do not have an intrinsic type. Objects have types.\n",
    "- Python determines the type of the reference automatically based on what data is assigned to it."
   ]
  },
  {
   "cell_type": "markdown",
   "metadata": {},
   "source": [
    "### [Numbers](Numbers.ipynb)\n",
    "### [Misc](Misc.ipynb)\n",
    "### [Strings](Strings.ipynb)\n",
    "### [Lists](Lists.ipynb)\n",
    "### [Dictionaries](Dictionaries.ipynb)\n",
    "### [Tuples](Tuples.ipynb)\n",
    "### [Sets](Sets.ipynb)\n",
    "### [Booleans](Booleans.ipynb)\n",
    "### [- Exercises](Exercises.ipynb)\n",
    "### [If, For, While, Range](If, For, While, Range.ipynb)\n",
    "### [List Comprehensions](List Comprehensions.ipynb)\n",
    "### [- Exercies](Exercises2.ipynb)\n",
    "### [Functions](Functions.ipynb)\n",
    "### [Lambda Expressions](Lambda expressions.ipynb)\n",
    "### [Map](Map.ipynb)\n",
    "### [Filter](Filter.ipynb)\n",
    "### [Modules](Modules and Packages.ipynb)"
   ]
  },
  {
   "cell_type": "markdown",
   "metadata": {},
   "source": [
    "## Homework\n",
    "- Read \"[A Few Useful Things to Know about Machine Learning](http://homes.cs.washington.edu/~pedrod/papers/cacm12.pdf)\".\n",
    "- Familiarize yourself with Jupyter Notebooks, by experimenting with this notebook. Get to know: \n",
    "  - [Keyboard Shortcuts](https://gist.github.com/kidpixo/f4318f8c8143adee5b40)\n",
    "  - [Markdown syntax](https://github.com/adam-p/markdown-here/wiki/Markdown-Cheatsheet)\n",
    "- Install an RSS feed app on your mobile phone (I recommend [Feedly](feedly.com)), and subscribe to the RSS feed of [Analytics Vidhya](https://www.analyticsvidhya.com/blog/)\n",
    "- Subscribe to the weekly newsletter of [Data Machina](http://tinyletter.com/datamachina/archive)\n",
    "- Install [Anaconda](https://www.continuum.io/downloads) on your local laptop/desktop\n",
    "- Follow Scikit Learns basic [Introduction to Machine Learning](http://scikit-learn.org/stable/tutorial/basic/tutorial.html) (make sure you run the code yourself, using Jupyter Notebook!)\n",
    "- Sign up to [meetup.com](http://meetup.com) and join a few meetups related to data science"
   ]
  },
  {
   "cell_type": "markdown",
   "metadata": {},
   "source": [
    "## Recommended Reading\n",
    "[An elaborate guide to Python with examples](https://engineering.ucsb.edu/~shell/che210d/python.pdf)"
   ]
  },
  {
   "cell_type": "markdown",
   "metadata": {},
   "source": [
    "## Language features\n",
    "- Indentation instead of braces\n",
    "- Several sequence types\n",
    "  - Strings ’…’: made of characters, immutable\n",
    "  - Lists […]: made of anything, mutable\n",
    "  - Tuples (…) : made of anything, immutable\n",
    "- Powerful subscripting (slicing)\n",
    "- Functions are independent entities (not all functions are methods)\n",
    "- Exceptions as in Java\n",
    "- Simple object system\n",
    "- Iterators (like Java) and generators"
   ]
  }
 ],
 "metadata": {
  "anaconda-cloud": {},
  "kernelspec": {
   "display_name": "Python [default]",
   "language": "python",
   "name": "python3"
  },
  "language_info": {
   "codemirror_mode": {
    "name": "ipython",
    "version": 3
   },
   "file_extension": ".py",
   "mimetype": "text/x-python",
   "name": "python",
   "nbconvert_exporter": "python",
   "pygments_lexer": "ipython3",
   "version": "3.5.2"
  }
 },
 "nbformat": 4,
 "nbformat_minor": 1
}
